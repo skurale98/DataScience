{
 "cells": [
  {
   "cell_type": "code",
   "execution_count": 70,
   "metadata": {},
   "outputs": [],
   "source": [
    "import pandas as pd\n",
    "import numpy as np\n",
    "import seaborn as sns\n",
    "from sklearn.linear_model import LinearRegression\n",
    "from sklearn.metrics import r2_score\n",
    "from sklearn.svm import SVR\n",
    "from matplotlib import pyplot as plt\n",
    "from sklearn import utils\n",
    "from sklearn.preprocessing import PolynomialFeatures\n",
    "import sklearn"
   ]
  },
  {
   "cell_type": "code",
   "execution_count": 71,
   "metadata": {},
   "outputs": [],
   "source": [
    "grad = pd.read_csv(\"gradRates.csv\", encoding = \"ISO-8859-1\")\n",
    "grad\n",
    "grad.columns =[\"CO_Code\", \"County\", \"DIST_Code\", \"DIST_Name\", \"SCHL_Code\", \"SCHL_Name\", \"4-Year_Rate\", \"5-Year_Rate\"]\n"
   ]
  },
  {
   "cell_type": "code",
   "execution_count": 72,
   "metadata": {},
   "outputs": [],
   "source": [
    "df = grad.drop([0])\n",
    "df = df[[\"County\", \"4-Year_Rate\", \"5-Year_Rate\"]]\n",
    "\n",
    "df = df.dropna()\n",
    "df.drop(df[df['4-Year_Rate'] == \"*\"].index, inplace = True)\n"
   ]
  },
  {
   "cell_type": "code",
   "execution_count": 73,
   "metadata": {},
   "outputs": [],
   "source": [
    "df = df.astype({\"4-Year_Rate\":float, \"5-Year_Rate\": float})\n",
    "df = df.groupby(\"County\").mean()"
   ]
  },
  {
   "cell_type": "code",
   "execution_count": 74,
   "metadata": {},
   "outputs": [
    {
     "data": {
      "text/html": [
       "<div>\n",
       "<style scoped>\n",
       "    .dataframe tbody tr th:only-of-type {\n",
       "        vertical-align: middle;\n",
       "    }\n",
       "\n",
       "    .dataframe tbody tr th {\n",
       "        vertical-align: top;\n",
       "    }\n",
       "\n",
       "    .dataframe thead th {\n",
       "        text-align: right;\n",
       "    }\n",
       "</style>\n",
       "<table border=\"1\" class=\"dataframe\">\n",
       "  <thead>\n",
       "    <tr style=\"text-align: right;\">\n",
       "      <th></th>\n",
       "      <th>County</th>\n",
       "      <th>Average Income</th>\n",
       "      <th>Average Teacher Salary</th>\n",
       "      <th>4-Year_Rate</th>\n",
       "    </tr>\n",
       "  </thead>\n",
       "  <tbody>\n",
       "    <tr>\n",
       "      <th>17</th>\n",
       "      <td>ATLANTIC</td>\n",
       "      <td>61777</td>\n",
       "      <td>66846.0</td>\n",
       "      <td>89.934000</td>\n",
       "    </tr>\n",
       "    <tr>\n",
       "      <th>4</th>\n",
       "      <td>BERGEN</td>\n",
       "      <td>94107</td>\n",
       "      <td>69145.0</td>\n",
       "      <td>94.910851</td>\n",
       "    </tr>\n",
       "    <tr>\n",
       "      <th>6</th>\n",
       "      <td>BURLINGTON</td>\n",
       "      <td>87673</td>\n",
       "      <td>63120.0</td>\n",
       "      <td>92.457500</td>\n",
       "    </tr>\n",
       "    <tr>\n",
       "      <th>15</th>\n",
       "      <td>CAMDEN</td>\n",
       "      <td>66196</td>\n",
       "      <td>60758.0</td>\n",
       "      <td>87.428333</td>\n",
       "    </tr>\n",
       "    <tr>\n",
       "      <th>14</th>\n",
       "      <td>CAPE MAY</td>\n",
       "      <td>66953</td>\n",
       "      <td>67241.0</td>\n",
       "      <td>86.114000</td>\n",
       "    </tr>\n",
       "    <tr>\n",
       "      <th>20</th>\n",
       "      <td>CUMBERLAND</td>\n",
       "      <td>52627</td>\n",
       "      <td>58959.0</td>\n",
       "      <td>81.820000</td>\n",
       "    </tr>\n",
       "    <tr>\n",
       "      <th>19</th>\n",
       "      <td>ESSEX</td>\n",
       "      <td>60430</td>\n",
       "      <td>62897.0</td>\n",
       "      <td>88.435000</td>\n",
       "    </tr>\n",
       "    <tr>\n",
       "      <th>7</th>\n",
       "      <td>GLOUCESTER</td>\n",
       "      <td>86496</td>\n",
       "      <td>62336.0</td>\n",
       "      <td>92.727143</td>\n",
       "    </tr>\n",
       "    <tr>\n",
       "      <th>13</th>\n",
       "      <td>HUDSON</td>\n",
       "      <td>67154</td>\n",
       "      <td>59076.0</td>\n",
       "      <td>87.638000</td>\n",
       "    </tr>\n",
       "    <tr>\n",
       "      <th>2</th>\n",
       "      <td>HUNTERDON</td>\n",
       "      <td>112038</td>\n",
       "      <td>62158.0</td>\n",
       "      <td>96.938000</td>\n",
       "    </tr>\n",
       "    <tr>\n",
       "      <th>10</th>\n",
       "      <td>MERCER</td>\n",
       "      <td>79173</td>\n",
       "      <td>63578.0</td>\n",
       "      <td>85.620000</td>\n",
       "    </tr>\n",
       "    <tr>\n",
       "      <th>8</th>\n",
       "      <td>MIDDLESEX</td>\n",
       "      <td>85337</td>\n",
       "      <td>64199.0</td>\n",
       "      <td>91.919000</td>\n",
       "    </tr>\n",
       "    <tr>\n",
       "      <th>3</th>\n",
       "      <td>MONMOUTH</td>\n",
       "      <td>98270</td>\n",
       "      <td>62179.0</td>\n",
       "      <td>93.920968</td>\n",
       "    </tr>\n",
       "    <tr>\n",
       "      <th>0</th>\n",
       "      <td>MORRIS</td>\n",
       "      <td>114732</td>\n",
       "      <td>65524.0</td>\n",
       "      <td>95.260000</td>\n",
       "    </tr>\n",
       "    <tr>\n",
       "      <th>12</th>\n",
       "      <td>OCEAN</td>\n",
       "      <td>71081</td>\n",
       "      <td>61651.0</td>\n",
       "      <td>91.754500</td>\n",
       "    </tr>\n",
       "    <tr>\n",
       "      <th>16</th>\n",
       "      <td>PASSAIC</td>\n",
       "      <td>64233</td>\n",
       "      <td>63617.0</td>\n",
       "      <td>90.076957</td>\n",
       "    </tr>\n",
       "    <tr>\n",
       "      <th>18</th>\n",
       "      <td>SALEM</td>\n",
       "      <td>61250</td>\n",
       "      <td>59530.0</td>\n",
       "      <td>86.483333</td>\n",
       "    </tr>\n",
       "    <tr>\n",
       "      <th>1</th>\n",
       "      <td>SOMERSET</td>\n",
       "      <td>112153</td>\n",
       "      <td>63962.0</td>\n",
       "      <td>93.448333</td>\n",
       "    </tr>\n",
       "    <tr>\n",
       "      <th>5</th>\n",
       "      <td>SUSSEX</td>\n",
       "      <td>90026</td>\n",
       "      <td>68318.0</td>\n",
       "      <td>94.580000</td>\n",
       "    </tr>\n",
       "    <tr>\n",
       "      <th>11</th>\n",
       "      <td>UNION</td>\n",
       "      <td>77326</td>\n",
       "      <td>63770.0</td>\n",
       "      <td>89.482667</td>\n",
       "    </tr>\n",
       "    <tr>\n",
       "      <th>9</th>\n",
       "      <td>WARREN</td>\n",
       "      <td>80657</td>\n",
       "      <td>62010.0</td>\n",
       "      <td>94.328333</td>\n",
       "    </tr>\n",
       "  </tbody>\n",
       "</table>\n",
       "</div>"
      ],
      "text/plain": [
       "        County  Average Income  Average Teacher Salary  4-Year_Rate\n",
       "17    ATLANTIC           61777                 66846.0    89.934000\n",
       "4       BERGEN           94107                 69145.0    94.910851\n",
       "6   BURLINGTON           87673                 63120.0    92.457500\n",
       "15      CAMDEN           66196                 60758.0    87.428333\n",
       "14    CAPE MAY           66953                 67241.0    86.114000\n",
       "20  CUMBERLAND           52627                 58959.0    81.820000\n",
       "19       ESSEX           60430                 62897.0    88.435000\n",
       "7   GLOUCESTER           86496                 62336.0    92.727143\n",
       "13      HUDSON           67154                 59076.0    87.638000\n",
       "2    HUNTERDON          112038                 62158.0    96.938000\n",
       "10      MERCER           79173                 63578.0    85.620000\n",
       "8    MIDDLESEX           85337                 64199.0    91.919000\n",
       "3     MONMOUTH           98270                 62179.0    93.920968\n",
       "0       MORRIS          114732                 65524.0    95.260000\n",
       "12       OCEAN           71081                 61651.0    91.754500\n",
       "16     PASSAIC           64233                 63617.0    90.076957\n",
       "18       SALEM           61250                 59530.0    86.483333\n",
       "1     SOMERSET          112153                 63962.0    93.448333\n",
       "5       SUSSEX           90026                 68318.0    94.580000\n",
       "11       UNION           77326                 63770.0    89.482667\n",
       "9       WARREN           80657                 62010.0    94.328333"
      ]
     },
     "execution_count": 74,
     "metadata": {},
     "output_type": "execute_result"
    }
   ],
   "source": [
    "%store -r countyStats\n",
    "county = countyStats.reset_index()\n",
    "\n",
    "\n",
    "county[\"County\"] = county[\"County\"].str.upper()\n",
    "county_join = county.merge(df, on ='County')\n",
    "cj = county_join.sort_values(\"County\")\n",
    "\n",
    "cj = cj.drop(columns = \"5-Year_Rate\")\n",
    "cj"
   ]
  },
  {
   "cell_type": "code",
   "execution_count": 75,
   "metadata": {},
   "outputs": [
    {
     "data": {
      "text/html": [
       "<div>\n",
       "<style scoped>\n",
       "    .dataframe tbody tr th:only-of-type {\n",
       "        vertical-align: middle;\n",
       "    }\n",
       "\n",
       "    .dataframe tbody tr th {\n",
       "        vertical-align: top;\n",
       "    }\n",
       "\n",
       "    .dataframe thead th {\n",
       "        text-align: right;\n",
       "    }\n",
       "</style>\n",
       "<table border=\"1\" class=\"dataframe\">\n",
       "  <thead>\n",
       "    <tr style=\"text-align: right;\">\n",
       "      <th></th>\n",
       "      <th>Crime Rate per 100000</th>\n",
       "      <th>Average Income</th>\n",
       "      <th>Average Teacher Salary</th>\n",
       "      <th>4-Year_Rate</th>\n",
       "    </tr>\n",
       "    <tr>\n",
       "      <th>County</th>\n",
       "      <th></th>\n",
       "      <th></th>\n",
       "      <th></th>\n",
       "      <th></th>\n",
       "    </tr>\n",
       "  </thead>\n",
       "  <tbody>\n",
       "    <tr>\n",
       "      <th>ATLANTIC</th>\n",
       "      <td>213.18</td>\n",
       "      <td>61777</td>\n",
       "      <td>66846.0</td>\n",
       "      <td>89.934000</td>\n",
       "    </tr>\n",
       "    <tr>\n",
       "      <th>BERGEN</th>\n",
       "      <td>90.95</td>\n",
       "      <td>94107</td>\n",
       "      <td>69145.0</td>\n",
       "      <td>94.910851</td>\n",
       "    </tr>\n",
       "    <tr>\n",
       "      <th>BURLINGTON</th>\n",
       "      <td>140.93</td>\n",
       "      <td>87673</td>\n",
       "      <td>63120.0</td>\n",
       "      <td>92.457500</td>\n",
       "    </tr>\n",
       "    <tr>\n",
       "      <th>CAMDEN</th>\n",
       "      <td>226.18</td>\n",
       "      <td>66196</td>\n",
       "      <td>60758.0</td>\n",
       "      <td>87.428333</td>\n",
       "    </tr>\n",
       "    <tr>\n",
       "      <th>CAPE MAY</th>\n",
       "      <td>157.85</td>\n",
       "      <td>66953</td>\n",
       "      <td>67241.0</td>\n",
       "      <td>86.114000</td>\n",
       "    </tr>\n",
       "    <tr>\n",
       "      <th>CUMBERLAND</th>\n",
       "      <td>280.67</td>\n",
       "      <td>52627</td>\n",
       "      <td>58959.0</td>\n",
       "      <td>81.820000</td>\n",
       "    </tr>\n",
       "    <tr>\n",
       "      <th>ESSEX</th>\n",
       "      <td>213.73</td>\n",
       "      <td>60430</td>\n",
       "      <td>62897.0</td>\n",
       "      <td>88.435000</td>\n",
       "    </tr>\n",
       "    <tr>\n",
       "      <th>GLOUCESTER</th>\n",
       "      <td>161.88</td>\n",
       "      <td>86496</td>\n",
       "      <td>62336.0</td>\n",
       "      <td>92.727143</td>\n",
       "    </tr>\n",
       "    <tr>\n",
       "      <th>HUDSON</th>\n",
       "      <td>138.37</td>\n",
       "      <td>67154</td>\n",
       "      <td>59076.0</td>\n",
       "      <td>87.638000</td>\n",
       "    </tr>\n",
       "    <tr>\n",
       "      <th>HUNTERDON</th>\n",
       "      <td>47.31</td>\n",
       "      <td>112038</td>\n",
       "      <td>62158.0</td>\n",
       "      <td>96.938000</td>\n",
       "    </tr>\n",
       "    <tr>\n",
       "      <th>MERCER</th>\n",
       "      <td>182.25</td>\n",
       "      <td>79173</td>\n",
       "      <td>63578.0</td>\n",
       "      <td>85.620000</td>\n",
       "    </tr>\n",
       "    <tr>\n",
       "      <th>MIDDLESEX</th>\n",
       "      <td>115.55</td>\n",
       "      <td>85337</td>\n",
       "      <td>64199.0</td>\n",
       "      <td>91.919000</td>\n",
       "    </tr>\n",
       "    <tr>\n",
       "      <th>MONMOUTH</th>\n",
       "      <td>118.17</td>\n",
       "      <td>98270</td>\n",
       "      <td>62179.0</td>\n",
       "      <td>93.920968</td>\n",
       "    </tr>\n",
       "    <tr>\n",
       "      <th>MORRIS</th>\n",
       "      <td>63.17</td>\n",
       "      <td>114732</td>\n",
       "      <td>65524.0</td>\n",
       "      <td>95.260000</td>\n",
       "    </tr>\n",
       "    <tr>\n",
       "      <th>OCEAN</th>\n",
       "      <td>102.11</td>\n",
       "      <td>71081</td>\n",
       "      <td>61651.0</td>\n",
       "      <td>91.754500</td>\n",
       "    </tr>\n",
       "    <tr>\n",
       "      <th>PASSAIC</th>\n",
       "      <td>159.20</td>\n",
       "      <td>64233</td>\n",
       "      <td>63617.0</td>\n",
       "      <td>90.076957</td>\n",
       "    </tr>\n",
       "    <tr>\n",
       "      <th>SALEM</th>\n",
       "      <td>154.25</td>\n",
       "      <td>61250</td>\n",
       "      <td>59530.0</td>\n",
       "      <td>86.483333</td>\n",
       "    </tr>\n",
       "    <tr>\n",
       "      <th>SOMERSET</th>\n",
       "      <td>91.96</td>\n",
       "      <td>112153</td>\n",
       "      <td>63962.0</td>\n",
       "      <td>93.448333</td>\n",
       "    </tr>\n",
       "    <tr>\n",
       "      <th>SUSSEX</th>\n",
       "      <td>41.08</td>\n",
       "      <td>90026</td>\n",
       "      <td>68318.0</td>\n",
       "      <td>94.580000</td>\n",
       "    </tr>\n",
       "    <tr>\n",
       "      <th>UNION</th>\n",
       "      <td>179.54</td>\n",
       "      <td>77326</td>\n",
       "      <td>63770.0</td>\n",
       "      <td>89.482667</td>\n",
       "    </tr>\n",
       "    <tr>\n",
       "      <th>WARREN</th>\n",
       "      <td>117.30</td>\n",
       "      <td>80657</td>\n",
       "      <td>62010.0</td>\n",
       "      <td>94.328333</td>\n",
       "    </tr>\n",
       "  </tbody>\n",
       "</table>\n",
       "</div>"
      ],
      "text/plain": [
       "            Crime Rate per 100000  Average Income  Average Teacher Salary  \\\n",
       "County                                                                      \n",
       "ATLANTIC                   213.18           61777                 66846.0   \n",
       "BERGEN                      90.95           94107                 69145.0   \n",
       "BURLINGTON                 140.93           87673                 63120.0   \n",
       "CAMDEN                     226.18           66196                 60758.0   \n",
       "CAPE MAY                   157.85           66953                 67241.0   \n",
       "CUMBERLAND                 280.67           52627                 58959.0   \n",
       "ESSEX                      213.73           60430                 62897.0   \n",
       "GLOUCESTER                 161.88           86496                 62336.0   \n",
       "HUDSON                     138.37           67154                 59076.0   \n",
       "HUNTERDON                   47.31          112038                 62158.0   \n",
       "MERCER                     182.25           79173                 63578.0   \n",
       "MIDDLESEX                  115.55           85337                 64199.0   \n",
       "MONMOUTH                   118.17           98270                 62179.0   \n",
       "MORRIS                      63.17          114732                 65524.0   \n",
       "OCEAN                      102.11           71081                 61651.0   \n",
       "PASSAIC                    159.20           64233                 63617.0   \n",
       "SALEM                      154.25           61250                 59530.0   \n",
       "SOMERSET                    91.96          112153                 63962.0   \n",
       "SUSSEX                      41.08           90026                 68318.0   \n",
       "UNION                      179.54           77326                 63770.0   \n",
       "WARREN                     117.30           80657                 62010.0   \n",
       "\n",
       "            4-Year_Rate  \n",
       "County                   \n",
       "ATLANTIC      89.934000  \n",
       "BERGEN        94.910851  \n",
       "BURLINGTON    92.457500  \n",
       "CAMDEN        87.428333  \n",
       "CAPE MAY      86.114000  \n",
       "CUMBERLAND    81.820000  \n",
       "ESSEX         88.435000  \n",
       "GLOUCESTER    92.727143  \n",
       "HUDSON        87.638000  \n",
       "HUNTERDON     96.938000  \n",
       "MERCER        85.620000  \n",
       "MIDDLESEX     91.919000  \n",
       "MONMOUTH      93.920968  \n",
       "MORRIS        95.260000  \n",
       "OCEAN         91.754500  \n",
       "PASSAIC       90.076957  \n",
       "SALEM         86.483333  \n",
       "SOMERSET      93.448333  \n",
       "SUSSEX        94.580000  \n",
       "UNION         89.482667  \n",
       "WARREN        94.328333  "
      ]
     },
     "execution_count": 75,
     "metadata": {},
     "output_type": "execute_result"
    }
   ],
   "source": [
    "%store -r crimerate\n",
    "crimerate\n",
    "\n",
    "crimerate[\"County\"] = crimerate[\"County\"].str.upper()\n",
    "cr_join = crimerate.merge(cj, on =\"County\")\n",
    "new = cr_join.drop(columns = [\"Crime Index\", \"Population\"])\n",
    "data = new.set_index(\"County\")\n",
    "#data = data.round(decimals = 4)\n",
    "data"
   ]
  },
  {
   "cell_type": "code",
   "execution_count": 87,
   "metadata": {},
   "outputs": [],
   "source": [
    "label = \"4-Year_Rate\"\n",
    "\n",
    "#new array without label\n",
    "X = np.array(data.drop([label],1))\n",
    "y = np.array(data[label])\n",
    "np.set_printoptions(suppress=True)\n",
    "\n",
    "#Random split of data train and test variables using 80-20 train ratio\n",
    "\n",
    "x_train, x_test, y_train, y_test = sklearn.model_selection.train_test_split(X,y,test_size = .2)\n"
   ]
  },
  {
   "cell_type": "code",
   "execution_count": 88,
   "metadata": {},
   "outputs": [
    {
     "data": {
      "text/plain": [
       "LinearRegression(copy_X=True, fit_intercept=True, n_jobs=None, normalize=False)"
      ]
     },
     "execution_count": 88,
     "metadata": {},
     "output_type": "execute_result"
    }
   ],
   "source": [
    "#fit the variables to model using Linear Regression\n",
    "linear = LinearRegression()\n",
    "linear.fit(x_train,y_train)\n",
    "\n",
    "\n"
   ]
  },
  {
   "cell_type": "code",
   "execution_count": 89,
   "metadata": {},
   "outputs": [
    {
     "data": {
      "text/plain": [
       "SVR(C=1.0, cache_size=200, coef0=0.0, degree=3, epsilon=0.1, gamma='scale',\n",
       "    kernel='rbf', max_iter=-1, shrinking=True, tol=0.001, verbose=False)"
      ]
     },
     "execution_count": 89,
     "metadata": {},
     "output_type": "execute_result"
    }
   ],
   "source": [
    "#fit the variables to model using SVR \n",
    "svm = SVR()\n",
    "\n",
    "svm.fit(x_train, y_train)\n",
    "\n",
    "\n"
   ]
  },
  {
   "cell_type": "code",
   "execution_count": 90,
   "metadata": {
    "scrolled": true
   },
   "outputs": [
    {
     "name": "stdout",
     "output_type": "stream",
     "text": [
      "Linear Accuracy Score: 0.5274860284544978\n",
      "SVR Accuracy Score: 0.2926512246062104\n",
      "Polynomial Accuracy Score: 0.5111038300388782\n"
     ]
    }
   ],
   "source": [
    "\n",
    "poly_reg = PolynomialFeatures(degree=2)\n",
    "x_poly = poly_reg.fit_transform(X)\n",
    "lin2 = LinearRegression()\n",
    "lin2.fit(x_poly,y)\n",
    "\n",
    "print(\"Linear Accuracy Score:\", linear.score(x_test,y_test))\n",
    "print(\"SVR Accuracy Score:\", svm.score(x_test,y_test))\n",
    "print(\"Polynomial Accuracy Score:\", lin2.score(poly_reg.fit_transform(x_test),y_test))"
   ]
  },
  {
   "cell_type": "code",
   "execution_count": 91,
   "metadata": {},
   "outputs": [],
   "source": [
    "y_pred = lin2.predict(poly_reg.fit_transform(x_test))"
   ]
  },
  {
   "cell_type": "code",
   "execution_count": 92,
   "metadata": {},
   "outputs": [
    {
     "name": "stdout",
     "output_type": "stream",
     "text": [
      "Coef: [  182.25 79173.   63578.  ] \n",
      " Predicted Grad Rate: 90.0141777539796 \n",
      "Actual Grad Rate: 85.61999999999999 \n",
      "\n",
      "Coef: [  161.88 86496.   62336.  ] \n",
      " Predicted Grad Rate: 90.5612377277698 \n",
      "Actual Grad Rate: 92.72714285714285 \n",
      "\n",
      "Coef: [  118.17 98270.   62179.  ] \n",
      " Predicted Grad Rate: 92.82536639103344 \n",
      "Actual Grad Rate: 93.92096774193546 \n",
      "\n",
      "Coef: [    91.96 112153.    63962.  ] \n",
      " Predicted Grad Rate: 93.21750765258062 \n",
      "Actual Grad Rate: 93.44833333333334 \n",
      "\n",
      "Coef: [   90.95 94107.   69145.  ] \n",
      " Predicted Grad Rate: 93.55484557723759 \n",
      "Actual Grad Rate: 94.91085106382978 \n",
      "\n",
      "R^2 Score: 0.5111038300388782 \n",
      "\n"
     ]
    }
   ],
   "source": [
    "#Predict the model using Polynomial Regression\n",
    "\n",
    "\n",
    "for i in range(len(y_pred)):\n",
    "    print(\"Coef:\",x_test[i],\"\\n\",\"Predicted Grad Rate:\", y_pred[i], \"\\n\" \"Actual Grad Rate:\",y_test[i], \"\\n\")\n",
    "    \n",
    "print(\"R^2 Score:\", r2_score(y_test,y_pred), \"\\n\")"
   ]
  },
  {
   "cell_type": "code",
   "execution_count": null,
   "metadata": {},
   "outputs": [],
   "source": []
  },
  {
   "cell_type": "code",
   "execution_count": 93,
   "metadata": {},
   "outputs": [
    {
     "data": {
      "text/plain": [
       "<matplotlib.legend.Legend at 0x1235c0ac8>"
      ]
     },
     "execution_count": 93,
     "metadata": {},
     "output_type": "execute_result"
    },
    {
     "data": {
      "image/png": "[encoded data removed]",
      "text/plain": [
       "<Figure size 360x360 with 1 Axes>"
      ]
     },
     "metadata": {
      "needs_background": "light"
     },
     "output_type": "display_data"
    }
   ],
   "source": [
    "\n",
    "#bar graph of actual vs prediction results\n",
    "result = pd.DataFrame( y_test, y_pred).reset_index()\n",
    "result.columns = [\"Actual Value\",\"Predictions\"]\n",
    "Group = [\"1\", \"2\",\"3\",\"4\",\"5\"]\n",
    "result[\"Group\"] = Group\n",
    "result = result.set_index(\"Group\")\n",
    "result\n",
    "ax = result.plot.bar(figsize = (5,5), rot = 0)\n",
    "ax.set_ylabel(\"Graduation Rate\")\n",
    "ax.legend(loc= \"lower right\")"
   ]
  },
  {
   "cell_type": "code",
   "execution_count": 94,
   "metadata": {},
   "outputs": [
    {
     "name": "stdout",
     "output_type": "stream",
     "text": [
      "[79173.0, 86496.0, 98270.0, 112153.0, 94107.0]\n",
      "[90.01417775 90.56123773 92.82536639 93.21750765 93.55484558]\n"
     ]
    },
    {
     "data": {
      "text/plain": [
       "Text(0.5, 1.0, 'Prediction')"
      ]
     },
     "execution_count": 94,
     "metadata": {},
     "output_type": "execute_result"
    },
    {
     "data": {
      "image/png": "[encoded data removed]",
      "text/plain": [
       "<Figure size 432x288 with 1 Axes>"
      ]
     },
     "metadata": {
      "needs_background": "light"
     },
     "output_type": "display_data"
    }
   ],
   "source": [
    "#Graph of predicted reults to actual results\n",
    "inc = np.array(data[\"Average Income\"])\n",
    "grad = np.array(data[label])\n",
    "\n",
    "\n",
    "plt.scatter(inc,grad)\n",
    "inc_test= []\n",
    "for i in range (len(x_test)):\n",
    "    inc_test.append(x_test[i][1])\n",
    "print(inc_test)\n",
    "print(y_pred)\n",
    "\n",
    "ax = sns.regplot(inc_test,y_pred, order = 2 , ci = None, color = \"g\")\n",
    "ax.set_xlabel(\"Average Income ($)\")\n",
    "ax.set_ylabel(\"Grad Rate\")\n",
    "ax.set_title(\"Prediction\")"
   ]
  },
  {
   "cell_type": "code",
   "execution_count": 95,
   "metadata": {},
   "outputs": [
    {
     "name": "stdout",
     "output_type": "stream",
     "text": [
      "[63578.0, 62336.0, 62179.0, 63962.0, 69145.0]\n"
     ]
    },
    {
     "data": {
      "text/plain": [
       "[(80.0, 100.0)]"
      ]
     },
     "execution_count": 95,
     "metadata": {},
     "output_type": "execute_result"
    },
    {
     "data": {
      "image/png": "[encoded data removed]",
      "text/plain": [
       "<Figure size 432x288 with 1 Axes>"
      ]
     },
     "metadata": {
      "needs_background": "light"
     },
     "output_type": "display_data"
    }
   ],
   "source": [
    "#Graph of predicted reults to actual results\n",
    "\n",
    "\n",
    "\n",
    "sal = np.array(data[\"Average Teacher Salary\"])\n",
    "\n",
    "plt.scatter(sal,grad)\n",
    "\n",
    "sal_test= []\n",
    "for i in range (len(x_test)):\n",
    "    sal_test.append(x_test[i][2])\n",
    "print(sal_test)\n",
    "\n",
    "\n",
    "ax = sns.regplot(sal_test,y_pred, color = \"r\", ci= None, order =2)\n",
    "ax.set_xlabel(\"Average Teacher Salary ($)\")\n",
    "ax.set_ylabel(\"Grad Rate\")\n",
    "ax.set_title(\"Prediction\")\n",
    "ax.set(ylim=(80,100))\n"
   ]
  },
  {
   "cell_type": "code",
   "execution_count": 96,
   "metadata": {},
   "outputs": [
    {
     "name": "stdout",
     "output_type": "stream",
     "text": [
      "[182.25, 161.88, 118.17, 91.96, 90.95]\n",
      "[90.01417775 90.56123773 92.82536639 93.21750765 93.55484558]\n"
     ]
    },
    {
     "data": {
      "text/plain": [
       "Text(0.5, 1.0, 'Prediction')"
      ]
     },
     "execution_count": 96,
     "metadata": {},
     "output_type": "execute_result"
    },
    {
     "data": {
      "image/png": "[encoded data removed]",
      "text/plain": [
       "<Figure size 432x288 with 1 Axes>"
      ]
     },
     "metadata": {
      "needs_background": "light"
     },
     "output_type": "display_data"
    }
   ],
   "source": [
    "#Graph of predicted reults to actual results\n",
    "\n",
    "\n",
    "crime = np.array(data[\"Crime Rate per 100000\"])\n",
    "grad = np.array(data[label])\n",
    "\n",
    "plt.scatter(crime,grad)\n",
    "\n",
    "crime_test= []\n",
    "for i in range (len(x_test)):\n",
    "    crime_test.append(x_test[i][0])\n",
    "print(crime_test)\n",
    "print(y_pred)\n",
    "\n",
    "\n",
    "#plt.plot(crime_test,y_pred, color = \"orange\")\n",
    "ax = sns.regplot(crime_test,y_pred,  color = \"orange\", ci = None, order = 2 )\n",
    "ax.set_xlabel(\"Crime Rate per 100000\")\n",
    "ax.set_ylabel(\"Grad Rate\")\n",
    "ax.set_title(\"Prediction\")"
   ]
  },
  {
   "cell_type": "code",
   "execution_count": 86,
   "metadata": {},
   "outputs": [
    {
     "data": {
      "text/plain": [
       "Text(0.5, 1.0, 'Average Teacher Salary vs Household Income')"
      ]
     },
     "execution_count": 86,
     "metadata": {},
     "output_type": "execute_result"
    },
    {
     "data": {
      "image/png": "[encoded data removed]",
      "text/plain": [
       "<Figure size 432x288 with 1 Axes>"
      ]
     },
     "metadata": {
      "needs_background": "light"
     },
     "output_type": "display_data"
    }
   ],
   "source": [
    "sal = \"Average Teacher Salary\"\n",
    "income = \"Average Income\"\n",
    "ax = sns.regplot(data = data, x= income , y= sal)\n",
    "ax.set_title(\"Average Teacher Salary vs Household Income\")"
   ]
  },
  {
   "cell_type": "code",
   "execution_count": null,
   "metadata": {},
   "outputs": [],
   "source": [
    "\n",
    "\n"
   ]
  },
  {
   "cell_type": "code",
   "execution_count": 140,
   "metadata": {},
   "outputs": [
    {
     "data": {
      "text/plain": [
       "Text(0.5, 1.0, 'Average Household Income vs Grad Rate')"
      ]
     },
     "execution_count": 140,
     "metadata": {},
     "output_type": "execute_result"
    },
    {
     "data": {
      "image/png": "[encoded data removed]",
      "text/plain": [
       "<Figure size 432x288 with 1 Axes>"
      ]
     },
     "metadata": {
      "needs_background": "light"
     },
     "output_type": "display_data"
    }
   ],
   "source": [
    "income = \"Average Income\"\n",
    "ax = sns.regplot(data = data, x= income , y= label)\n",
    "ax.set_title(\"Average Household Income vs Grad Rate\")"
   ]
  },
  {
   "cell_type": "code",
   "execution_count": 141,
   "metadata": {},
   "outputs": [
    {
     "data": {
      "text/plain": [
       "Text(0.5, 1.0, 'Average Teacher Salary vs Grad Rate')"
      ]
     },
     "execution_count": 141,
     "metadata": {},
     "output_type": "execute_result"
    },
    {
     "data": {
      "image/png": "[encoded data removed]",
      "text/plain": [
       "<Figure size 432x288 with 1 Axes>"
      ]
     },
     "metadata": {
      "needs_background": "light"
     },
     "output_type": "display_data"
    }
   ],
   "source": [
    "sal = \"Average Teacher Salary\"\n",
    "\n",
    "ax = sns.regplot(data = data, x= sal , y= label)\n",
    "ax.set_title(\"Average Teacher Salary vs Grad Rate\")"
   ]
  },
  {
   "cell_type": "code",
   "execution_count": 142,
   "metadata": {},
   "outputs": [
    {
     "data": {
      "text/plain": [
       "Text(0.5, 1.0, 'Crime Rate vs Grad Rate')"
      ]
     },
     "execution_count": 142,
     "metadata": {},
     "output_type": "execute_result"
    },
    {
     "data": {
      "image/png": "[encoded data removed]",
      "text/plain": [
       "<Figure size 432x288 with 1 Axes>"
      ]
     },
     "metadata": {
      "needs_background": "light"
     },
     "output_type": "display_data"
    }
   ],
   "source": [
    "cr = \"Crime Rate per 100000\"\n",
    "ax = sns.regplot(data = data, x= cr , y= label)\n",
    "ax.set_title(\"Crime Rate vs Grad Rate\")"
   ]
  }
 ],
 "metadata": {
  "kernelspec": {
   "display_name": "Python 3",
   "language": "python",
   "name": "python3"
  },
  "language_info": {
   "codemirror_mode": {
    "name": "ipython",
    "version": 3
   },
   "file_extension": ".py",
   "mimetype": "text/x-python",
   "name": "python",
   "nbconvert_exporter": "python",
   "pygments_lexer": "ipython3",
   "version": "3.7.3"
  }
 },
 "nbformat": 4,
 "nbformat_minor": 4
}
